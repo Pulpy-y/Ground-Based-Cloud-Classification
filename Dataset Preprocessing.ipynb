{
 "cells": [
  {
   "cell_type": "markdown",
   "id": "54d46d23",
   "metadata": {},
   "source": [
    "Note: This notebook records some code for image processing, but may not be used in the final training"
   ]
  },
  {
   "cell_type": "markdown",
   "id": "81a97a13",
   "metadata": {},
   "source": [
    "## Image Augmentation"
   ]
  },
  {
   "cell_type": "code",
   "execution_count": null,
   "id": "b1d82e32",
   "metadata": {},
   "outputs": [],
   "source": [
    "import os\n",
    "import cv2\n",
    "import random\n",
    "\n",
    "def augment_images(folder_path):\n",
    "    # Get list of subfolders\n",
    "    subfolders = [f.path for f in os.scandir(folder_path) if f.is_dir()]\n",
    "\n",
    "    for subfolder in subfolders:\n",
    "        # Get list of images in the subfolder\n",
    "        images = [f.path for f in os.scandir(subfolder) if f.is_file() and f.name.endswith(('.jpg', '.jpeg', '.png'))]\n",
    "\n",
    "        # Loop through each image\n",
    "        for image_path in images:\n",
    "            # Read image\n",
    "            img = cv2.imread(image_path)\n",
    "\n",
    "            # Perform augmentation: rotation to a random angle\n",
    "            angle = random.randint(1, 360)  # Generate a random angle between 1 and 360\n",
    "            rotation_matrix = cv2.getRotationMatrix2D((img.shape[1] / 2, img.shape[0] / 2), angle, 1)\n",
    "            rotated_img = cv2.warpAffine(img, rotation_matrix, (img.shape[1], img.shape[0]))\n",
    "\n",
    "            # Construct output file name\n",
    "            output_path = os.path.splitext(image_path)[0] + '_rotated.jpg'\n",
    "\n",
    "            # Write augmented image to disk\n",
    "            cv2.imwrite(output_path, rotated_img)\n",
    "\n",
    "            print(f\"Augmented image saved: {output_path}\")\n",
    "\n",
    "# Path to the folder with images\n",
    "folder_path = \"./Datasets/dataset_self/merged_resize_3\"\n",
    "augment_images(folder_path)\n"
   ]
  },
  {
   "cell_type": "markdown",
   "id": "cc87ff61",
   "metadata": {},
   "source": [
    "## Mean value subtraction"
   ]
  },
  {
   "cell_type": "code",
   "execution_count": null,
   "id": "a67bd2e8",
   "metadata": {},
   "outputs": [],
   "source": [
    "import os\n",
    "import numpy as np\n",
    "from PIL import Image\n",
    "from torchvision import transforms\n",
    "\n",
    "# Path to your dataset\n",
    "dataset_path = \"./Datasets/dataset_self/merged_resize_2/\"\n",
    "\n",
    "# Initialize variables to accumulate sum and sum of squares\n",
    "mean_sum = np.zeros(3)\n",
    "std_sum = np.zeros(3)\n",
    "num_images = 0\n",
    "\n",
    "# Iterate through the dataset\n",
    "for class_name in os.listdir(dataset_path):\n",
    "    if class_name.endswith(\".DS_Store\"):\n",
    "        continue\n",
    "    class_path = os.path.join(dataset_path, class_name)\n",
    "    for filename in os.listdir(class_path):\n",
    "        if filename.endswith(\".jpg\"):\n",
    "            image_path = os.path.join(class_path, filename)\n",
    "            img = Image.open(image_path)\n",
    "            img = img.resize((227, 227))  # Adjust the size for input\n",
    "            img_array = np.array(img) / 255.0  # Normalize pixel values to [0, 1]\n",
    "            mean_sum += img_array.mean(axis=(0, 1))\n",
    "            std_sum += img_array.std(axis=(0, 1))\n",
    "            num_images += 1\n",
    "\n",
    "# Calculate the mean and standard deviation\n",
    "mean_values = mean_sum / num_images\n",
    "std_values = std_sum / num_images\n",
    "\n",
    "print(\"Mean values:\", mean_values)\n",
    "print(\"Standard deviation values:\", std_values)"
   ]
  }
 ],
 "metadata": {
  "kernelspec": {
   "display_name": "Python 3 (ipykernel)",
   "language": "python",
   "name": "python3"
  },
  "language_info": {
   "codemirror_mode": {
    "name": "ipython",
    "version": 3
   },
   "file_extension": ".py",
   "mimetype": "text/x-python",
   "name": "python",
   "nbconvert_exporter": "python",
   "pygments_lexer": "ipython3",
   "version": "3.11.4"
  }
 },
 "nbformat": 4,
 "nbformat_minor": 5
}
