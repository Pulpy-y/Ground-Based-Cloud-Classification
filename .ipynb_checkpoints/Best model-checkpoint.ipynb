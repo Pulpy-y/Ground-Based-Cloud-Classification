{
 "cells": [
  {
   "cell_type": "markdown",
   "id": "60725843",
   "metadata": {},
   "source": [
    "Model with highest accuracy is obtained with\n",
    "- Batch normalization \n",
    "- Original GBCD dataset (unprocessed)"
   ]
  },
  {
   "cell_type": "code",
   "execution_count": 12,
   "id": "ac2d2404",
   "metadata": {},
   "outputs": [
    {
     "name": "stdout",
     "output_type": "stream",
     "text": [
      "Using device: cpu\n"
     ]
    }
   ],
   "source": [
    "device = torch.device(\"cuda\" if torch.cuda.is_available() else \"cpu\")\n",
    "print(f\"Using device: {device}\")\n"
   ]
  },
  {
   "cell_type": "markdown",
   "id": "bec6e574",
   "metadata": {},
   "source": [
    "### 1. Load model"
   ]
  },
  {
   "cell_type": "code",
   "execution_count": 1,
   "id": "fe0d83a7",
   "metadata": {},
   "outputs": [
    {
     "data": {
      "text/plain": [
       "CloudNet11(\n",
       "  (conv1): Conv2d(3, 96, kernel_size=(11, 11), stride=(4, 4), padding=(2, 2))\n",
       "  (maxpool1): MaxPool2d(kernel_size=3, stride=2, padding=0, dilation=1, ceil_mode=False)\n",
       "  (conv2): Conv2d(96, 256, kernel_size=(5, 5), stride=(1, 1), padding=(2, 2))\n",
       "  (maxpool2): MaxPool2d(kernel_size=3, stride=2, padding=0, dilation=1, ceil_mode=False)\n",
       "  (conv3): Conv2d(256, 384, kernel_size=(3, 3), stride=(1, 1), padding=(1, 1))\n",
       "  (conv4): Conv2d(384, 256, kernel_size=(3, 3), stride=(1, 1), padding=(1, 1))\n",
       "  (maxpool3): MaxPool2d(kernel_size=3, stride=2, padding=0, dilation=1, ceil_mode=False)\n",
       "  (fc1): Linear(in_features=9216, out_features=4096, bias=True)\n",
       "  (dropout1): Dropout(p=0.5, inplace=False)\n",
       "  (fc2): Linear(in_features=4096, out_features=4096, bias=True)\n",
       "  (dropout2): Dropout(p=0.5, inplace=False)\n",
       "  (fc3): Linear(in_features=4096, out_features=6, bias=True)\n",
       "  (bn1): BatchNorm2d(96, eps=1e-05, momentum=0.1, affine=True, track_running_stats=True)\n",
       "  (bn2): BatchNorm2d(256, eps=1e-05, momentum=0.1, affine=True, track_running_stats=True)\n",
       "  (bn3): BatchNorm2d(384, eps=1e-05, momentum=0.1, affine=True, track_running_stats=True)\n",
       "  (bn_fc1): BatchNorm1d(4096, eps=1e-05, momentum=0.1, affine=True, track_running_stats=True)\n",
       "  (bn_fc2): BatchNorm1d(4096, eps=1e-05, momentum=0.1, affine=True, track_running_stats=True)\n",
       ")"
      ]
     },
     "execution_count": 1,
     "metadata": {},
     "output_type": "execute_result"
    }
   ],
   "source": [
    "import torch\n",
    "import torch.nn as nn\n",
    "import torch.optim as optim\n",
    "from torchvision import transforms\n",
    "from torchvision.datasets import ImageFolder\n",
    "from torch.utils.data import DataLoader\n",
    "import matplotlib.pyplot as plt\n",
    "from sklearn.metrics import confusion_matrix\n",
    "import seaborn as sns\n",
    "import matplotlib.pyplot as plt\n",
    "import numpy as np\n",
    "\n",
    "# Set random seed for reproducibility\n",
    "seed = 42\n",
    "torch.manual_seed(seed)\n",
    "torch.cuda.manual_seed(seed)\n",
    "\n",
    "\n",
    "class CloudNet11(nn.Module):\n",
    "    def __init__(self):\n",
    "        super().__init__()\n",
    "        # Layer 1: Convolution with 11x11 kernel, followed by Max-Pooling with 3x3 kernel\n",
    "        self.conv1 = nn.Conv2d(3, 96, kernel_size=11, stride=4, padding=2)\n",
    "        self.maxpool1 = nn.MaxPool2d(kernel_size=3, stride=2)\n",
    "\n",
    "        # Layer 2: Convolution with 5x5 kernel, followed by Max-Pooling with 3x3 kernel\n",
    "        self.conv2 = nn.Conv2d(96, 256, kernel_size=5, padding=2)\n",
    "        self.maxpool2 = nn.MaxPool2d(kernel_size=3, stride=2)\n",
    "\n",
    "        # Layer 3: Convolution with 3x3 kernel\n",
    "        self.conv3 = nn.Conv2d(256, 384, kernel_size=3, padding=1)\n",
    "\n",
    "        # Layer 4: Convolution with 3x3 kernel\n",
    "        self.conv4 = nn.Conv2d(384, 256, kernel_size=3, padding=1)\n",
    "        self.maxpool3 = nn.MaxPool2d(kernel_size=3, stride=2)\n",
    "\n",
    "        # Layer 5: Fully Connected Layers with Dropout\n",
    "        self.fc1 = nn.Linear(256 * 6 * 6, 4096)\n",
    "        self.dropout1 = nn.Dropout(0.5)\n",
    "\n",
    "        # Layer 6: Fully Connected Layers with Dropout\n",
    "        self.fc2 = nn.Linear(4096, 4096)\n",
    "        self.dropout2 = nn.Dropout(0.5)\n",
    "\n",
    "        # Layer 7: Fully Connected Output Layer\n",
    "        self.fc3 = nn.Linear(4096, 6)\n",
    "        \n",
    "        # Add Batch Normalization after convolutional layers\n",
    "        self.bn1 = nn.BatchNorm2d(96)\n",
    "        self.bn2 = nn.BatchNorm2d(256)\n",
    "        self.bn3 = nn.BatchNorm2d(384)\n",
    "\n",
    "        # Add Batch Normalization after fully connected layers\n",
    "        self.bn_fc1 = nn.BatchNorm1d(4096)\n",
    "        self.bn_fc2 = nn.BatchNorm1d(4096)\n",
    "\n",
    "    def forward(self, x):\n",
    "        x = self.maxpool1(nn.functional.relu(self.bn1(self.conv1(x))))\n",
    "        x = self.maxpool2(nn.functional.relu(self.bn2(self.conv2(x))))\n",
    "        x = nn.functional.relu(self.bn3(self.conv3(x)))\n",
    "        x = nn.functional.relu(self.conv4(x))\n",
    "        x = self.maxpool3(x)\n",
    "        x = x.view(-1, 256 * 6 * 6)\n",
    "        x = nn.functional.relu(self.bn_fc1(self.fc1(x)))\n",
    "        x = self.dropout1(x)\n",
    "        x = nn.functional.relu(self.bn_fc2(self.fc2(x)))\n",
    "        x = self.dropout2(x)\n",
    "        x = self.fc3(x)\n",
    "        return x\n",
    "\n",
    "\n",
    "model = CloudNet11()\n",
    "model.load_state_dict(torch.load(\"./best_model.pth\", map_location=torch.device('cpu')))\n",
    "model.eval()"
   ]
  },
  {
   "cell_type": "markdown",
   "id": "f6d0ce2c",
   "metadata": {},
   "source": [
    "### 2. Load test dataset"
   ]
  },
  {
   "cell_type": "code",
   "execution_count": 14,
   "id": "46f6ec35",
   "metadata": {},
   "outputs": [],
   "source": [
    "import os\n",
    "import numpy as np\n",
    "from PIL import Image\n",
    "import torch\n",
    "from torch.utils.data import Dataset, DataLoader\n",
    "\n",
    "class CustomImageDataset(Dataset):\n",
    "    def __init__(self, dataset_path, transform=None, copy=False):\n",
    "        self.dataset_path = dataset_path\n",
    "        self.transform = transform\n",
    "        self.images = []\n",
    "        self.labels = []\n",
    "        self.copy = copy  \n",
    "        self.class_to_label = {\n",
    "            \"Ci&Cs\": 0,\n",
    "            \"Sc&St&As\": 1,\n",
    "            \"Cu\": 2,\n",
    "            \"Cb&Ns\": 3,\n",
    "            \"Contrail\": 4,\n",
    "            \"Ac&Cc\": 5\n",
    "        }\n",
    "        \n",
    "        for class_name, label in self.class_to_label.items():\n",
    "            class_path = os.path.join(self.dataset_path, class_name)\n",
    "            for filename in os.listdir(class_path):\n",
    "                if filename.endswith(\".jpg\"):\n",
    "                    image_path = os.path.join(class_path, filename)\n",
    "                    img = Image.open(image_path)\n",
    "                    img = img.resize((227, 227))  # Adjust the size for input \n",
    "                    img = np.array(img)\n",
    "                    self.images.append(img)\n",
    "                    self.labels.append(label)\n",
    "    \n",
    "    def __len__(self):\n",
    "        return len(self.images)\n",
    "    \n",
    "    def __getitem__(self, idx):\n",
    "        image = self.images[idx]\n",
    "        label = self.labels[idx]\n",
    "        \n",
    "        if self.transform:\n",
    "            image = Image.fromarray(image)  # Convert the NumPy array to a PIL Image\n",
    "            image = self.transform(image)  # Apply the provided transform\n",
    "        \n",
    "        if self.copy:\n",
    "            # Create a copy of the image if 'copy' is True\n",
    "            image = np.copy(image)\n",
    "        \n",
    "        \n",
    "        return image, label"
   ]
  },
  {
   "cell_type": "code",
   "execution_count": 10,
   "id": "4b7e5a7f",
   "metadata": {},
   "outputs": [],
   "source": [
    "from torch.utils.data import Dataset, DataLoader, random_split\n",
    "\n",
    "# Define data transformations\n",
    "transform = transforms.Compose([\n",
    "    transforms.Resize((227, 227)),  # Resize to match the input size\n",
    "    transforms.ToTensor(),  # Convert images to PyTorch tensors\n",
    "])\n",
    "\n",
    "dataset = CustomImageDataset(dataset_path=\"../Datasets/dataset_self/merged_resize_2/\", transform=transform)\n",
    "\n",
    "# Calculate the size of the test set (15% of the total dataset)\n",
    "test_size = int(0.15 * len(dataset))\n",
    "\n",
    "# Use random_split to split the dataset\n",
    "test_dataset, _ = random_split(\n",
    "    dataset, [test_size, len(dataset) - test_size], generator=torch.Generator().manual_seed(42)\n",
    ")\n",
    "\n",
    "# Create dataloader for the test set\n",
    "batch_size = 8\n",
    "test_dataloader = DataLoader(test_dataset, batch_size=batch_size, shuffle=True)\n"
   ]
  },
  {
   "cell_type": "markdown",
   "id": "18870785",
   "metadata": {},
   "source": [
    "## 3. Performance Visualization"
   ]
  },
  {
   "cell_type": "code",
   "execution_count": 13,
   "id": "a2135477",
   "metadata": {},
   "outputs": [
    {
     "name": "stdout",
     "output_type": "stream",
     "text": [
      "Test Accuracy: 95.31%\n"
     ]
    },
    {
     "data": {
      "image/png": "[encoded data removed]",
      "text/plain": [
       "<Figure size 800x800 with 2 Axes>"
      ]
     },
     "metadata": {},
     "output_type": "display_data"
    }
   ],
   "source": [
    "import torch\n",
    "from sklearn.metrics import confusion_matrix\n",
    "import seaborn as sns\n",
    "import matplotlib.pyplot as plt\n",
    "import numpy as np\n",
    "\n",
    "# Initialize lists to store predictions and ground truth labels\n",
    "all_predictions = []\n",
    "all_labels = []\n",
    "correct_predictions = 0\n",
    "total_samples = 0\n",
    "\n",
    "\n",
    "with torch.no_grad():\n",
    "    for inputs, labels in test_dataloader:\n",
    "        inputs, labels = inputs.to(device), labels.to(device)\n",
    "        outputs = model(inputs)\n",
    "        _, predicted = torch.max(outputs, 1)\n",
    "        total_samples += labels.size(0)\n",
    "        correct_predictions += (predicted == labels).sum().item()\n",
    "        all_predictions.extend(predicted.cpu().numpy())\n",
    "        all_labels.extend(labels.cpu().numpy())\n",
    "\n",
    "accuracy = correct_predictions / total_samples\n",
    "print(f'Test Accuracy: {accuracy * 100:.2f}%')\n",
    "# Create a confusion matrix\n",
    "conf_matrix = confusion_matrix(all_labels, all_predictions)\n",
    "\n",
    "# Visualize the confusion matrix as a heatmap\n",
    "class_names = [f'Class {i}' for i in range(conf_matrix.shape[0])]\n",
    "plt.figure(figsize=(8, 8))\n",
    "sns.heatmap(conf_matrix, annot=True, fmt='d', cmap='Blues', xticklabels=class_names, yticklabels=class_names)\n",
    "plt.xlabel('Predicted')\n",
    "plt.ylabel('Actual')\n",
    "plt.title('Confusion Matrix')\n",
    "plt.show()\n"
   ]
  }
 ],
 "metadata": {
  "kernelspec": {
   "display_name": "Python 3 (ipykernel)",
   "language": "python",
   "name": "python3"
  },
  "language_info": {
   "codemirror_mode": {
    "name": "ipython",
    "version": 3
   },
   "file_extension": ".py",
   "mimetype": "text/x-python",
   "name": "python",
   "nbconvert_exporter": "python",
   "pygments_lexer": "ipython3",
   "version": "3.11.4"
  }
 },
 "nbformat": 4,
 "nbformat_minor": 5
}
